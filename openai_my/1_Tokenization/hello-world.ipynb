{
 "cells": [
  {
   "cell_type": "markdown",
   "id": "8da67c73-9627-42c5-a128-1e4b67587656",
   "metadata": {},
   "source": [
    "# Hello World for LLM\n",
    "\n",
    "A quick demo code to connect to Azure OpenAI interface, and run some prompt.\n",
    "\n",
    "Please ensure you have *.env* file in the same folder."
   ]
  },
  {
   "cell_type": "code",
   "execution_count": 1,
   "id": "83e6f66b-598b-4883-b09d-39527f4dcd54",
   "metadata": {},
   "outputs": [
    {
     "name": "stdout",
     "output_type": "stream",
     "text": [
      "Yes, other Azure AI services also support integration with Power Automate for creating automated workflows. This allows you to leverage AI capabilities within your existing workflows and processes. Some of the other Azure AI services that support this integration include Azure Cognitive Services, Azure Bot Service, and Azure Machine Learning. Let me know if you need more specific information about any of these services.\n"
     ]
    }
   ],
   "source": [
    "from openai import AzureOpenAI\n",
    "from dotenv import load_dotenv\n",
    "import os\n",
    "\n",
    "load_dotenv()\n",
    "os.environ[\"OPENAI_API_TYPE\"] = \"azure\"\n",
    "os.environ[\"OPENAI_API_VERSION\"] = \"2023-05-15\"\n",
    "os.environ[\"AZURE_OPENAI_ENDPOINT\"] = \"https://pvg-azure-openai-uk-south.openai.azure.com\"\n",
    "\n",
    "client = AzureOpenAI(\n",
    "  azure_endpoint = os.getenv(\"AZURE_OPENAI_ENDPOINT\"), \n",
    "  api_key=os.getenv(\"AZURE_OPENAI_KEY\"),  \n",
    "  api_version=\"2023-05-15\"\n",
    ")\n",
    "\n",
    "response = client.chat.completions.create(\n",
    "    model=\"gpt-35-turbo\", # model = \"deployment_name\".\n",
    "    messages=[\n",
    "        {\"role\": \"system\", \"content\": \"You are a helpful assistant.\"},\n",
    "        {\"role\": \"user\", \"content\": \"Do other Azure AI services support this too?\"}\n",
    "    ]\n",
    ")\n",
    "\n",
    "print(response.choices[0].message.content)"
   ]
  },
  {
   "cell_type": "code",
   "execution_count": 5,
   "id": "8e3b7666-9024-48bf-8040-683da48aef9d",
   "metadata": {},
   "outputs": [
    {
     "name": "stdout",
     "output_type": "stream",
     "text": [
      "content='我是谁？'\n"
     ]
    }
   ],
   "source": [
    "from langchain.chat_models import AzureChatOpenAI\n",
    "from langchain.schema import HumanMessage\n",
    " \n",
    "model = AzureChatOpenAI(deployment_name=\"gpt-35-turbo\")\n",
    " \n",
    "message = HumanMessage(\n",
    "    content=\"Translate this sentence from English to Chinese: Who am I?\"\n",
    ")\n",
    "print(model([message]))"
   ]
  },
  {
   "cell_type": "code",
   "execution_count": null,
   "id": "e00999f8-d7f0-47ac-a36e-9820a6c9c4f3",
   "metadata": {},
   "outputs": [],
   "source": []
  }
 ],
 "metadata": {
  "kernelspec": {
   "display_name": "Python 3 (ipykernel)",
   "language": "python",
   "name": "python3"
  },
  "language_info": {
   "codemirror_mode": {
    "name": "ipython",
    "version": 3
   },
   "file_extension": ".py",
   "mimetype": "text/x-python",
   "name": "python",
   "nbconvert_exporter": "python",
   "pygments_lexer": "ipython3",
   "version": "3.10.13"
  }
 },
 "nbformat": 4,
 "nbformat_minor": 5
}
