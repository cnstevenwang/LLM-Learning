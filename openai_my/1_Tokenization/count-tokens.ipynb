{
 "cells": [
  {
   "cell_type": "code",
   "execution_count": 2,
   "id": "e4a9de76-12c5-4e69-8690-838de35c8b16",
   "metadata": {},
   "outputs": [
    {
     "name": "stdout",
     "output_type": "stream",
     "text": [
      "236\n",
      "236\n"
     ]
    }
   ],
   "source": [
    "import os\n",
    "\n",
    "from dotenv import load_dotenv\n",
    "from langchain_openai import AzureChatOpenAI\n",
    "# from langchain.callbacks import get_openai_callback\n",
    "\n",
    "def get_num_tokens_with_gpt_api()->None:    \n",
    "  load_dotenv()\n",
    "  os.environ[\"OPENAI_API_TYPE\"] = \"azure\"\n",
    "  os.environ[\"OPENAI_API_VERSION\"] = \"2023-05-15\"\n",
    "  os.environ[\"AZURE_OPENAI_ENDPOINT\"] = \"https://pvg-azure-openai-uk-south.openai.azure.com\"\n",
    "  llm = AzureChatOpenAI(\n",
    "    deployment_name=\"gpt-35-turbo\",\n",
    "  )\n",
    "  input_txt=\"In today's rapidly changing world, knowledge is constantly being refreshed, and it's essential to adapt and evolve in order to avoid becoming obsolete. The impact of macro-economic factors on our company and industry necessitates a proactive approach skill development and strategic influence to ensure that our team remains at the forefront of our organization. By leveraging our collective skills and expertise, we have the opportunity to consolidate efforts across multiple teams and achieve larger, more impactful goals. While individuals may excel in their own right, it's through collaborative efforts that we can truly propel our path forward. \\nA project here is different from normal industry cloud product engineering projects which are centrally funded to win a market or an amount of customers. Our projects executed here are mainly to lay a solid foundation for all other projects from the perspective of growth, including people growth, skillset growth and reputation growth. We will use each individual project, and combined projects to meet our strategic goals at anytime in this competitive environment. A project here could be considered successful if the growth trend of a strategic goal is established, or a concept has been accepted and executed within an industry cloud/commerce project, or the passion of some important topic is ignited.\"\n",
    "  print(llm.get_num_tokens(input_txt))\n",
    "\n",
    "def get_num_tokens_with_tiktok_lib() -> None:\n",
    "  import tiktoken\n",
    "  gpt35_encoding = tiktoken.get_encoding(\"cl100k_base\")\n",
    "  input_txt=\"In today's rapidly changing world, knowledge is constantly being refreshed, and it's essential to adapt and evolve in order to avoid becoming obsolete. The impact of macro-economic factors on our company and industry necessitates a proactive approach skill development and strategic influence to ensure that our team remains at the forefront of our organization. By leveraging our collective skills and expertise, we have the opportunity to consolidate efforts across multiple teams and achieve larger, more impactful goals. While individuals may excel in their own right, it's through collaborative efforts that we can truly propel our path forward. \\nA project here is different from normal industry cloud product engineering projects which are centrally funded to win a market or an amount of customers. Our projects executed here are mainly to lay a solid foundation for all other projects from the perspective of growth, including people growth, skillset growth and reputation growth. We will use each individual project, and combined projects to meet our strategic goals at anytime in this competitive environment. A project here could be considered successful if the growth trend of a strategic goal is established, or a concept has been accepted and executed within an industry cloud/commerce project, or the passion of some important topic is ignited.\"\n",
    "  print(len(gpt35_encoding.encode(input_txt)))\n",
    "\n",
    "get_num_tokens_with_tiktok_lib()\n",
    "get_num_tokens_with_gpt_api()"
   ]
  },
  {
   "cell_type": "code",
   "execution_count": null,
   "id": "88645788-018f-4811-9b99-812db7f026e3",
   "metadata": {},
   "outputs": [],
   "source": []
  },
  {
   "cell_type": "code",
   "execution_count": null,
   "id": "bde93dc4-a262-44a6-8cc0-05d1c916787c",
   "metadata": {},
   "outputs": [],
   "source": []
  },
  {
   "cell_type": "code",
   "execution_count": null,
   "id": "6481d6ba-e086-4d44-a448-636679f6a458",
   "metadata": {},
   "outputs": [],
   "source": []
  },
  {
   "cell_type": "code",
   "execution_count": null,
   "id": "2000d28d-98d9-4384-9564-3258f84e458a",
   "metadata": {},
   "outputs": [],
   "source": []
  },
  {
   "cell_type": "code",
   "execution_count": null,
   "id": "759636c5-a7e3-4ad4-913d-984987868410",
   "metadata": {},
   "outputs": [],
   "source": []
  }
 ],
 "metadata": {
  "kernelspec": {
   "display_name": "Python 3 (ipykernel)",
   "language": "python",
   "name": "python3"
  },
  "language_info": {
   "codemirror_mode": {
    "name": "ipython",
    "version": 3
   },
   "file_extension": ".py",
   "mimetype": "text/x-python",
   "name": "python",
   "nbconvert_exporter": "python",
   "pygments_lexer": "ipython3",
   "version": "3.10.13"
  }
 },
 "nbformat": 4,
 "nbformat_minor": 5
}
